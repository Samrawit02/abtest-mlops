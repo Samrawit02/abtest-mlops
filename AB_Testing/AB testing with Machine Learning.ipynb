{
 "cells": [
  {
   "cell_type": "markdown",
   "metadata": {
    "colab_type": "text",
    "id": "iUNbvIvnT7ep"
   },
   "source": [
    "## <font color='#2F4F4F'> Data Cleaning & Preparation</font>"
   ]
  },
  {
   "cell_type": "code",
   "execution_count": 1,
   "metadata": {
    "colab": {
     "base_uri": "https://localhost:8080/",
     "height": 52
    },
    "colab_type": "code",
    "id": "0mdPO_JOasC1",
    "outputId": "46c82e87-c97b-49d7-e9da-dab5e441ecd6"
   },
   "outputs": [],
   "source": [
    "# load libraries\n",
    "import pandas as pd\n",
    "import numpy as np\n",
    "import matplotlib.pyplot as plt\n",
    "import seaborn as sns\n",
    "\n",
    "import math as mt\n",
    "import numpy as np\n",
    "import pandas as pd\n",
    "from scipy.stats import norm\n",
    "\n",
    "%matplotlib inline\n",
    "\n",
    "# to display all columns\n",
    "pd.set_option('display.max.columns', None)\n",
    "\n",
    "# to display the entire contents of a cell\n",
    "pd.set_option('display.max_colwidth', None)"
   ]
  },
  {
   "cell_type": "code",
   "execution_count": 2,
   "metadata": {
    "colab": {
     "base_uri": "https://localhost:8080/",
     "height": 137
    },
    "colab_type": "code",
    "id": "XJn2KjW-WMlG",
    "outputId": "f5d60f3a-b3d7-432f-e615-09ff31e027a1"
   },
   "outputs": [
    {
     "data": {
      "text/html": [
       "<div>\n",
       "<style scoped>\n",
       "    .dataframe tbody tr th:only-of-type {\n",
       "        vertical-align: middle;\n",
       "    }\n",
       "\n",
       "    .dataframe tbody tr th {\n",
       "        vertical-align: top;\n",
       "    }\n",
       "\n",
       "    .dataframe thead th {\n",
       "        text-align: right;\n",
       "    }\n",
       "</style>\n",
       "<table border=\"1\" class=\"dataframe\">\n",
       "  <thead>\n",
       "    <tr style=\"text-align: right;\">\n",
       "      <th></th>\n",
       "      <th>auction_id</th>\n",
       "      <th>experiment</th>\n",
       "      <th>date</th>\n",
       "      <th>hour</th>\n",
       "      <th>device_make</th>\n",
       "      <th>platform_os</th>\n",
       "      <th>browser</th>\n",
       "      <th>yes</th>\n",
       "      <th>no</th>\n",
       "    </tr>\n",
       "  </thead>\n",
       "  <tbody>\n",
       "    <tr>\n",
       "      <th>780</th>\n",
       "      <td>190665ba-3d25-476e-82bd-eeb240a14b49</td>\n",
       "      <td>control</td>\n",
       "      <td>2020-07-09</td>\n",
       "      <td>16</td>\n",
       "      <td>Samsung SM-A505FN</td>\n",
       "      <td>6</td>\n",
       "      <td>Samsung Internet</td>\n",
       "      <td>0</td>\n",
       "      <td>0</td>\n",
       "    </tr>\n",
       "    <tr>\n",
       "      <th>1227</th>\n",
       "      <td>2812a04b-4690-457d-bcaa-4d403681f324</td>\n",
       "      <td>control</td>\n",
       "      <td>2020-07-09</td>\n",
       "      <td>13</td>\n",
       "      <td>Generic Smartphone</td>\n",
       "      <td>6</td>\n",
       "      <td>Chrome Mobile</td>\n",
       "      <td>0</td>\n",
       "      <td>0</td>\n",
       "    </tr>\n",
       "    <tr>\n",
       "      <th>4636</th>\n",
       "      <td>93d3fc08-e630-48d8-beb3-45170e92a18e</td>\n",
       "      <td>control</td>\n",
       "      <td>2020-07-03</td>\n",
       "      <td>15</td>\n",
       "      <td>Generic Smartphone</td>\n",
       "      <td>6</td>\n",
       "      <td>Chrome Mobile</td>\n",
       "      <td>0</td>\n",
       "      <td>0</td>\n",
       "    </tr>\n",
       "  </tbody>\n",
       "</table>\n",
       "</div>"
      ],
      "text/plain": [
       "                                auction_id experiment        date  hour  \\\n",
       "780   190665ba-3d25-476e-82bd-eeb240a14b49    control  2020-07-09    16   \n",
       "1227  2812a04b-4690-457d-bcaa-4d403681f324    control  2020-07-09    13   \n",
       "4636  93d3fc08-e630-48d8-beb3-45170e92a18e    control  2020-07-03    15   \n",
       "\n",
       "             device_make  platform_os           browser  yes  no  \n",
       "780    Samsung SM-A505FN            6  Samsung Internet    0   0  \n",
       "1227  Generic Smartphone            6     Chrome Mobile    0   0  \n",
       "4636  Generic Smartphone            6     Chrome Mobile    0   0  "
      ]
     },
     "execution_count": 2,
     "metadata": {},
     "output_type": "execute_result"
    }
   ],
   "source": [
    "# load and preview dataset\n",
    "file_name = '../data/AdSmartABdata.csv'\n",
    "df =pd.read_csv(file_name)\n",
    "df.sample(3)"
   ]
  },
  {
   "cell_type": "code",
   "execution_count": 3,
   "metadata": {
    "colab": {
     "base_uri": "https://localhost:8080/",
     "height": 34
    },
    "colab_type": "code",
    "id": "T3nO8Pr0asDa",
    "outputId": "68275834-9f09-4b4d-b4bb-eb6f78df20a1"
   },
   "outputs": [
    {
     "data": {
      "text/plain": [
       "(8077, 9)"
      ]
     },
     "execution_count": 3,
     "metadata": {},
     "output_type": "execute_result"
    }
   ],
   "source": [
    "# check dataset shape\n",
    "df.shape"
   ]
  },
  {
   "cell_type": "markdown",
   "metadata": {
    "colab_type": "text",
    "id": "V0L7v6F2asDt"
   },
   "source": [
    "Our dataset has 8077 records and 9 variables."
   ]
  },
  {
   "cell_type": "code",
   "execution_count": 4,
   "metadata": {
    "colab": {
     "base_uri": "https://localhost:8080/",
     "height": 287
    },
    "colab_type": "code",
    "id": "Pfi3ZA0fa4dZ",
    "outputId": "e2ee93cf-0202-4c62-ef2b-adce06d3ff9d"
   },
   "outputs": [
    {
     "data": {
      "text/html": [
       "<div>\n",
       "<style scoped>\n",
       "    .dataframe tbody tr th:only-of-type {\n",
       "        vertical-align: middle;\n",
       "    }\n",
       "\n",
       "    .dataframe tbody tr th {\n",
       "        vertical-align: top;\n",
       "    }\n",
       "\n",
       "    .dataframe thead th {\n",
       "        text-align: right;\n",
       "    }\n",
       "</style>\n",
       "<table border=\"1\" class=\"dataframe\">\n",
       "  <thead>\n",
       "    <tr style=\"text-align: right;\">\n",
       "      <th></th>\n",
       "      <th>hour</th>\n",
       "      <th>platform_os</th>\n",
       "      <th>yes</th>\n",
       "      <th>no</th>\n",
       "    </tr>\n",
       "  </thead>\n",
       "  <tbody>\n",
       "    <tr>\n",
       "      <th>count</th>\n",
       "      <td>8077.000000</td>\n",
       "      <td>8077.000000</td>\n",
       "      <td>8077.000000</td>\n",
       "      <td>8077.000000</td>\n",
       "    </tr>\n",
       "    <tr>\n",
       "      <th>mean</th>\n",
       "      <td>11.615080</td>\n",
       "      <td>5.947134</td>\n",
       "      <td>0.070818</td>\n",
       "      <td>0.083075</td>\n",
       "    </tr>\n",
       "    <tr>\n",
       "      <th>std</th>\n",
       "      <td>5.734879</td>\n",
       "      <td>0.224333</td>\n",
       "      <td>0.256537</td>\n",
       "      <td>0.276013</td>\n",
       "    </tr>\n",
       "    <tr>\n",
       "      <th>min</th>\n",
       "      <td>0.000000</td>\n",
       "      <td>5.000000</td>\n",
       "      <td>0.000000</td>\n",
       "      <td>0.000000</td>\n",
       "    </tr>\n",
       "    <tr>\n",
       "      <th>25%</th>\n",
       "      <td>7.000000</td>\n",
       "      <td>6.000000</td>\n",
       "      <td>0.000000</td>\n",
       "      <td>0.000000</td>\n",
       "    </tr>\n",
       "    <tr>\n",
       "      <th>50%</th>\n",
       "      <td>13.000000</td>\n",
       "      <td>6.000000</td>\n",
       "      <td>0.000000</td>\n",
       "      <td>0.000000</td>\n",
       "    </tr>\n",
       "    <tr>\n",
       "      <th>75%</th>\n",
       "      <td>15.000000</td>\n",
       "      <td>6.000000</td>\n",
       "      <td>0.000000</td>\n",
       "      <td>0.000000</td>\n",
       "    </tr>\n",
       "    <tr>\n",
       "      <th>max</th>\n",
       "      <td>23.000000</td>\n",
       "      <td>7.000000</td>\n",
       "      <td>1.000000</td>\n",
       "      <td>1.000000</td>\n",
       "    </tr>\n",
       "  </tbody>\n",
       "</table>\n",
       "</div>"
      ],
      "text/plain": [
       "              hour  platform_os          yes           no\n",
       "count  8077.000000  8077.000000  8077.000000  8077.000000\n",
       "mean     11.615080     5.947134     0.070818     0.083075\n",
       "std       5.734879     0.224333     0.256537     0.276013\n",
       "min       0.000000     5.000000     0.000000     0.000000\n",
       "25%       7.000000     6.000000     0.000000     0.000000\n",
       "50%      13.000000     6.000000     0.000000     0.000000\n",
       "75%      15.000000     6.000000     0.000000     0.000000\n",
       "max      23.000000     7.000000     1.000000     1.000000"
      ]
     },
     "execution_count": 4,
     "metadata": {},
     "output_type": "execute_result"
    }
   ],
   "source": [
    "df.describe()"
   ]
  },
  {
   "cell_type": "code",
   "execution_count": 6,
   "metadata": {
    "colab": {
     "base_uri": "https://localhost:8080/",
     "height": 301
    },
    "colab_type": "code",
    "id": "r4cDp15Ea_My",
    "outputId": "36280772-589f-4eb1-cb96-e4da425bbe92"
   },
   "outputs": [
    {
     "name": "stdout",
     "output_type": "stream",
     "text": [
      "<class 'pandas.core.frame.DataFrame'>\n",
      "RangeIndex: 8077 entries, 0 to 8076\n",
      "Data columns (total 9 columns):\n",
      " #   Column       Non-Null Count  Dtype \n",
      "---  ------       --------------  ----- \n",
      " 0   auction_id   8077 non-null   object\n",
      " 1   experiment   8077 non-null   object\n",
      " 2   date         8077 non-null   object\n",
      " 3   hour         8077 non-null   int64 \n",
      " 4   device_make  8077 non-null   object\n",
      " 5   platform_os  8077 non-null   int64 \n",
      " 6   browser      8077 non-null   object\n",
      " 7   yes          8077 non-null   int64 \n",
      " 8   no           8077 non-null   int64 \n",
      "dtypes: int64(4), object(5)\n",
      "memory usage: 568.0+ KB\n"
     ]
    }
   ],
   "source": [
    "df.info()"
   ]
  },
  {
   "cell_type": "code",
   "execution_count": 7,
   "metadata": {
    "colab": {
     "base_uri": "https://localhost:8080/",
     "height": 194
    },
    "colab_type": "code",
    "id": "7tOe_SdmasEd",
    "outputId": "2a68dc92-91fa-43b9-9669-b13fe04a9509"
   },
   "outputs": [
    {
     "data": {
      "text/plain": [
       "auction_id     0\n",
       "experiment     0\n",
       "date           0\n",
       "hour           0\n",
       "device_make    0\n",
       "platform_os    0\n",
       "browser        0\n",
       "yes            0\n",
       "no             0\n",
       "dtype: int64"
      ]
     },
     "execution_count": 7,
     "metadata": {},
     "output_type": "execute_result"
    }
   ],
   "source": [
    "# check for missing values\n",
    "df.isna().sum()"
   ]
  },
  {
   "cell_type": "code",
   "execution_count": 8,
   "metadata": {
    "colab": {
     "base_uri": "https://localhost:8080/",
     "height": 194
    },
    "colab_type": "code",
    "id": "t8WGzIueasEB",
    "outputId": "5c6c59f5-c516-419c-96dd-d77613b3d7f8"
   },
   "outputs": [
    {
     "data": {
      "text/plain": [
       "auction_id     object\n",
       "experiment     object\n",
       "date           object\n",
       "hour            int64\n",
       "device_make    object\n",
       "platform_os     int64\n",
       "browser        object\n",
       "yes             int64\n",
       "no              int64\n",
       "dtype: object"
      ]
     },
     "execution_count": 8,
     "metadata": {},
     "output_type": "execute_result"
    }
   ],
   "source": [
    "# preview variable datatypes\n",
    "df.dtypes"
   ]
  },
  {
   "cell_type": "code",
   "execution_count": 9,
   "metadata": {
    "colab": {
     "base_uri": "https://localhost:8080/",
     "height": 34
    },
    "colab_type": "code",
    "id": "Lncux1rmasEW",
    "outputId": "3c656ad5-519b-4abd-c765-6fe8005c0035"
   },
   "outputs": [
    {
     "data": {
      "text/plain": [
       "0"
      ]
     },
     "execution_count": 9,
     "metadata": {},
     "output_type": "execute_result"
    }
   ],
   "source": [
    "# check for duplicates\n",
    "df.duplicated().sum()"
   ]
  },
  {
   "cell_type": "markdown",
   "metadata": {
    "colab_type": "text",
    "id": "z58VpwHoasH_"
   },
   "source": [
    "## A/B testing with Machine Learning  "
   ]
  },
  {
   "cell_type": "markdown",
   "metadata": {
    "colab_type": "text",
    "id": "WKm33MJYasH_"
   },
   "source": [
    "Algorithms\n",
    "1. Logistic Regression\n",
    "2. Decison Trees italicised text\n",
    "3. XGboost"
   ]
  },
  {
   "cell_type": "code",
   "execution_count": 10,
   "metadata": {
    "colab": {
     "base_uri": "https://localhost:8080/",
     "height": 281
    },
    "colab_type": "code",
    "id": "Cxw0S2ENprQb",
    "outputId": "e2f8e79f-e29d-41ab-ccdc-35643f14baf6"
   },
   "outputs": [
    {
     "data": {
      "text/html": [
       "<div>\n",
       "<style scoped>\n",
       "    .dataframe tbody tr th:only-of-type {\n",
       "        vertical-align: middle;\n",
       "    }\n",
       "\n",
       "    .dataframe tbody tr th {\n",
       "        vertical-align: top;\n",
       "    }\n",
       "\n",
       "    .dataframe thead th {\n",
       "        text-align: right;\n",
       "    }\n",
       "</style>\n",
       "<table border=\"1\" class=\"dataframe\">\n",
       "  <thead>\n",
       "    <tr style=\"text-align: right;\">\n",
       "      <th></th>\n",
       "      <th>auction_id</th>\n",
       "      <th>experiment</th>\n",
       "      <th>date</th>\n",
       "      <th>hour</th>\n",
       "      <th>device_make</th>\n",
       "      <th>platform_os</th>\n",
       "      <th>browser</th>\n",
       "      <th>yes</th>\n",
       "      <th>no</th>\n",
       "    </tr>\n",
       "  </thead>\n",
       "  <tbody>\n",
       "    <tr>\n",
       "      <th>0</th>\n",
       "      <td>0008ef63-77a7-448b-bd1e-075f42c55e39</td>\n",
       "      <td>exposed</td>\n",
       "      <td>2020-07-10</td>\n",
       "      <td>8</td>\n",
       "      <td>Generic Smartphone</td>\n",
       "      <td>6</td>\n",
       "      <td>Chrome Mobile</td>\n",
       "      <td>0</td>\n",
       "      <td>0</td>\n",
       "    </tr>\n",
       "    <tr>\n",
       "      <th>1</th>\n",
       "      <td>000eabc5-17ce-4137-8efe-44734d914446</td>\n",
       "      <td>exposed</td>\n",
       "      <td>2020-07-07</td>\n",
       "      <td>10</td>\n",
       "      <td>Generic Smartphone</td>\n",
       "      <td>6</td>\n",
       "      <td>Chrome Mobile</td>\n",
       "      <td>0</td>\n",
       "      <td>0</td>\n",
       "    </tr>\n",
       "    <tr>\n",
       "      <th>2</th>\n",
       "      <td>0016d14a-ae18-4a02-a204-6ba53b52f2ed</td>\n",
       "      <td>exposed</td>\n",
       "      <td>2020-07-05</td>\n",
       "      <td>2</td>\n",
       "      <td>E5823</td>\n",
       "      <td>6</td>\n",
       "      <td>Chrome Mobile WebView</td>\n",
       "      <td>0</td>\n",
       "      <td>1</td>\n",
       "    </tr>\n",
       "    <tr>\n",
       "      <th>3</th>\n",
       "      <td>00187412-2932-4542-a8ef-3633901c98d9</td>\n",
       "      <td>control</td>\n",
       "      <td>2020-07-03</td>\n",
       "      <td>15</td>\n",
       "      <td>Samsung SM-A705FN</td>\n",
       "      <td>6</td>\n",
       "      <td>Facebook</td>\n",
       "      <td>0</td>\n",
       "      <td>0</td>\n",
       "    </tr>\n",
       "    <tr>\n",
       "      <th>4</th>\n",
       "      <td>001a7785-d3fe-4e11-a344-c8735acacc2c</td>\n",
       "      <td>control</td>\n",
       "      <td>2020-07-03</td>\n",
       "      <td>15</td>\n",
       "      <td>Generic Smartphone</td>\n",
       "      <td>6</td>\n",
       "      <td>Chrome Mobile</td>\n",
       "      <td>0</td>\n",
       "      <td>0</td>\n",
       "    </tr>\n",
       "  </tbody>\n",
       "</table>\n",
       "</div>"
      ],
      "text/plain": [
       "                             auction_id experiment        date  hour  \\\n",
       "0  0008ef63-77a7-448b-bd1e-075f42c55e39    exposed  2020-07-10     8   \n",
       "1  000eabc5-17ce-4137-8efe-44734d914446    exposed  2020-07-07    10   \n",
       "2  0016d14a-ae18-4a02-a204-6ba53b52f2ed    exposed  2020-07-05     2   \n",
       "3  00187412-2932-4542-a8ef-3633901c98d9    control  2020-07-03    15   \n",
       "4  001a7785-d3fe-4e11-a344-c8735acacc2c    control  2020-07-03    15   \n",
       "\n",
       "          device_make  platform_os                browser  yes  no  \n",
       "0  Generic Smartphone            6          Chrome Mobile    0   0  \n",
       "1  Generic Smartphone            6          Chrome Mobile    0   0  \n",
       "2               E5823            6  Chrome Mobile WebView    0   1  \n",
       "3   Samsung SM-A705FN            6               Facebook    0   0  \n",
       "4  Generic Smartphone            6          Chrome Mobile    0   0  "
      ]
     },
     "execution_count": 10,
     "metadata": {},
     "output_type": "execute_result"
    }
   ],
   "source": [
    "df.head(5)"
   ]
  },
  {
   "cell_type": "code",
   "execution_count": 11,
   "metadata": {
    "colab": {},
    "colab_type": "code",
    "id": "lfJxOY11pvat"
   },
   "outputs": [],
   "source": [
    "data=df.copy()"
   ]
  },
  {
   "cell_type": "markdown",
   "metadata": {
    "colab_type": "text",
    "id": "ZQjql-lgasHJ"
   },
   "source": [
    "### Feature Engineering & Test for Multicollinearity\n",
    "* Before we can carry out the test for multicollinearity (a requirement for logistic regression), we need to convert some categorical values to numeric values and restructure some features."
   ]
  },
  {
   "cell_type": "markdown",
   "metadata": {
    "colab_type": "text",
    "id": "aavgzcw76Zp6"
   },
   "source": [
    "We will drop the auction id column since it just represnts randomly assigned numbers"
   ]
  },
  {
   "cell_type": "code",
   "execution_count": 12,
   "metadata": {
    "colab": {},
    "colab_type": "code",
    "id": "i1L1Jk1E4WP3"
   },
   "outputs": [],
   "source": [
    "data.drop('auction_id',axis=1,inplace=True)"
   ]
  },
  {
   "cell_type": "markdown",
   "metadata": {
    "colab_type": "text",
    "id": "e9z3qKHf64nD"
   },
   "source": [
    "For the target variable,we will have a column representing the response of the user i.e  yes or no.So we will drop those who didn't respond"
   ]
  },
  {
   "cell_type": "code",
   "execution_count": 13,
   "metadata": {
    "colab": {
     "base_uri": "https://localhost:8080/",
     "height": 137
    },
    "colab_type": "code",
    "id": "ZMtkmr1Lp2CT",
    "outputId": "1d4e73ae-34c4-44e2-9f89-63997e0f3de6"
   },
   "outputs": [
    {
     "data": {
      "text/html": [
       "<div>\n",
       "<style scoped>\n",
       "    .dataframe tbody tr th:only-of-type {\n",
       "        vertical-align: middle;\n",
       "    }\n",
       "\n",
       "    .dataframe tbody tr th {\n",
       "        vertical-align: top;\n",
       "    }\n",
       "\n",
       "    .dataframe thead th {\n",
       "        text-align: right;\n",
       "    }\n",
       "</style>\n",
       "<table border=\"1\" class=\"dataframe\">\n",
       "  <thead>\n",
       "    <tr style=\"text-align: right;\">\n",
       "      <th></th>\n",
       "      <th>experiment</th>\n",
       "      <th>date</th>\n",
       "      <th>hour</th>\n",
       "      <th>device_make</th>\n",
       "      <th>platform_os</th>\n",
       "      <th>browser</th>\n",
       "      <th>yes</th>\n",
       "      <th>no</th>\n",
       "    </tr>\n",
       "  </thead>\n",
       "  <tbody>\n",
       "    <tr>\n",
       "      <th>1990</th>\n",
       "      <td>control</td>\n",
       "      <td>2020-07-04</td>\n",
       "      <td>20</td>\n",
       "      <td>Samsung SM-G970F</td>\n",
       "      <td>6</td>\n",
       "      <td>Facebook</td>\n",
       "      <td>1</td>\n",
       "      <td>0</td>\n",
       "    </tr>\n",
       "    <tr>\n",
       "      <th>5944</th>\n",
       "      <td>exposed</td>\n",
       "      <td>2020-07-09</td>\n",
       "      <td>8</td>\n",
       "      <td>Generic Smartphone</td>\n",
       "      <td>6</td>\n",
       "      <td>Chrome Mobile</td>\n",
       "      <td>1</td>\n",
       "      <td>0</td>\n",
       "    </tr>\n",
       "    <tr>\n",
       "      <th>1070</th>\n",
       "      <td>exposed</td>\n",
       "      <td>2020-07-08</td>\n",
       "      <td>16</td>\n",
       "      <td>Generic Smartphone</td>\n",
       "      <td>6</td>\n",
       "      <td>Chrome Mobile</td>\n",
       "      <td>0</td>\n",
       "      <td>1</td>\n",
       "    </tr>\n",
       "  </tbody>\n",
       "</table>\n",
       "</div>"
      ],
      "text/plain": [
       "     experiment        date  hour         device_make  platform_os  \\\n",
       "1990    control  2020-07-04    20    Samsung SM-G970F            6   \n",
       "5944    exposed  2020-07-09     8  Generic Smartphone            6   \n",
       "1070    exposed  2020-07-08    16  Generic Smartphone            6   \n",
       "\n",
       "            browser  yes  no  \n",
       "1990       Facebook    1   0  \n",
       "5944  Chrome Mobile    1   0  \n",
       "1070  Chrome Mobile    0   1  "
      ]
     },
     "execution_count": 13,
     "metadata": {},
     "output_type": "execute_result"
    }
   ],
   "source": [
    "data=data[~(data[['yes','no']] == 0).all(axis=1)]\n",
    "data.sample(3)"
   ]
  },
  {
   "cell_type": "code",
   "execution_count": 14,
   "metadata": {
    "colab": {
     "base_uri": "https://localhost:8080/",
     "height": 304
    },
    "colab_type": "code",
    "id": "PV-nDMscvLOZ",
    "outputId": "a13a364c-6d29-4efd-a579-484ff516f851"
   },
   "outputs": [
    {
     "data": {
      "text/html": [
       "<div>\n",
       "<style scoped>\n",
       "    .dataframe tbody tr th:only-of-type {\n",
       "        vertical-align: middle;\n",
       "    }\n",
       "\n",
       "    .dataframe tbody tr th {\n",
       "        vertical-align: top;\n",
       "    }\n",
       "\n",
       "    .dataframe thead th {\n",
       "        text-align: right;\n",
       "    }\n",
       "</style>\n",
       "<table border=\"1\" class=\"dataframe\">\n",
       "  <thead>\n",
       "    <tr style=\"text-align: right;\">\n",
       "      <th></th>\n",
       "      <th>experiment</th>\n",
       "      <th>date</th>\n",
       "      <th>hour</th>\n",
       "      <th>device_make</th>\n",
       "      <th>platform_os</th>\n",
       "      <th>browser</th>\n",
       "      <th>response</th>\n",
       "    </tr>\n",
       "  </thead>\n",
       "  <tbody>\n",
       "    <tr>\n",
       "      <th>2347</th>\n",
       "      <td>control</td>\n",
       "      <td>2020-07-03</td>\n",
       "      <td>15</td>\n",
       "      <td>Generic Smartphone</td>\n",
       "      <td>6</td>\n",
       "      <td>Chrome Mobile</td>\n",
       "      <td>0</td>\n",
       "    </tr>\n",
       "    <tr>\n",
       "      <th>3621</th>\n",
       "      <td>control</td>\n",
       "      <td>2020-07-04</td>\n",
       "      <td>5</td>\n",
       "      <td>Nokia$2$3</td>\n",
       "      <td>6</td>\n",
       "      <td>Chrome Mobile</td>\n",
       "      <td>0</td>\n",
       "    </tr>\n",
       "    <tr>\n",
       "      <th>4841</th>\n",
       "      <td>exposed</td>\n",
       "      <td>2020-07-07</td>\n",
       "      <td>20</td>\n",
       "      <td>Generic Smartphone</td>\n",
       "      <td>6</td>\n",
       "      <td>Chrome Mobile</td>\n",
       "      <td>1</td>\n",
       "    </tr>\n",
       "    <tr>\n",
       "      <th>726</th>\n",
       "      <td>control</td>\n",
       "      <td>2020-07-03</td>\n",
       "      <td>15</td>\n",
       "      <td>Samsung SM-J330FN</td>\n",
       "      <td>6</td>\n",
       "      <td>Samsung Internet</td>\n",
       "      <td>0</td>\n",
       "    </tr>\n",
       "    <tr>\n",
       "      <th>1226</th>\n",
       "      <td>exposed</td>\n",
       "      <td>2020-07-09</td>\n",
       "      <td>13</td>\n",
       "      <td>Nokia$2$3</td>\n",
       "      <td>6</td>\n",
       "      <td>Chrome Mobile WebView</td>\n",
       "      <td>1</td>\n",
       "    </tr>\n",
       "    <tr>\n",
       "      <th>2994</th>\n",
       "      <td>exposed</td>\n",
       "      <td>2020-07-08</td>\n",
       "      <td>22</td>\n",
       "      <td>Samsung SM-G960F</td>\n",
       "      <td>6</td>\n",
       "      <td>Facebook</td>\n",
       "      <td>0</td>\n",
       "    </tr>\n",
       "    <tr>\n",
       "      <th>2631</th>\n",
       "      <td>control</td>\n",
       "      <td>2020-07-03</td>\n",
       "      <td>15</td>\n",
       "      <td>iPhone</td>\n",
       "      <td>5</td>\n",
       "      <td>Mobile Safari UI/WKWebView</td>\n",
       "      <td>0</td>\n",
       "    </tr>\n",
       "    <tr>\n",
       "      <th>7782</th>\n",
       "      <td>exposed</td>\n",
       "      <td>2020-07-09</td>\n",
       "      <td>17</td>\n",
       "      <td>Samsung SM-G975F</td>\n",
       "      <td>6</td>\n",
       "      <td>Chrome Mobile WebView</td>\n",
       "      <td>1</td>\n",
       "    </tr>\n",
       "  </tbody>\n",
       "</table>\n",
       "</div>"
      ],
      "text/plain": [
       "     experiment        date  hour         device_make  platform_os  \\\n",
       "2347    control  2020-07-03    15  Generic Smartphone            6   \n",
       "3621    control  2020-07-04     5           Nokia$2$3            6   \n",
       "4841    exposed  2020-07-07    20  Generic Smartphone            6   \n",
       "726     control  2020-07-03    15   Samsung SM-J330FN            6   \n",
       "1226    exposed  2020-07-09    13           Nokia$2$3            6   \n",
       "2994    exposed  2020-07-08    22    Samsung SM-G960F            6   \n",
       "2631    control  2020-07-03    15              iPhone            5   \n",
       "7782    exposed  2020-07-09    17    Samsung SM-G975F            6   \n",
       "\n",
       "                         browser  response  \n",
       "2347               Chrome Mobile         0  \n",
       "3621               Chrome Mobile         0  \n",
       "4841               Chrome Mobile         1  \n",
       "726             Samsung Internet         0  \n",
       "1226       Chrome Mobile WebView         1  \n",
       "2994                    Facebook         0  \n",
       "2631  Mobile Safari UI/WKWebView         0  \n",
       "7782       Chrome Mobile WebView         1  "
      ]
     },
     "execution_count": 14,
     "metadata": {},
     "output_type": "execute_result"
    }
   ],
   "source": [
    "data['response']=np.where(data['yes']==1,1,0)\n",
    "data.drop('yes',axis=1,inplace=True)\n",
    "data.drop('no',axis=1,inplace=True)\n",
    "data.sample(8)"
   ]
  },
  {
   "cell_type": "markdown",
   "metadata": {
    "colab_type": "text",
    "id": "ZGdHPu4n7bCk"
   },
   "source": [
    "We now need to deal with the categorical variables..experiment,device_make and browser"
   ]
  },
  {
   "cell_type": "code",
   "execution_count": 15,
   "metadata": {
    "colab": {
     "base_uri": "https://localhost:8080/",
     "height": 123
    },
    "colab_type": "code",
    "id": "7BYEwPIazEfI",
    "outputId": "2866451a-4304-4b50-9bef-567f765b1db1"
   },
   "outputs": [
    {
     "data": {
      "text/plain": [
       "2     1\n",
       "16    1\n",
       "20    1\n",
       "23    0\n",
       "27    0\n",
       "Name: experiment, dtype: int64"
      ]
     },
     "execution_count": 15,
     "metadata": {},
     "output_type": "execute_result"
    }
   ],
   "source": [
    "experiment={'experiment':\n",
    "            {'exposed':1,'control':0}\n",
    "            }\n",
    "data.replace(experiment,inplace=True)\n",
    "data['experiment'].head(5)\n"
   ]
  },
  {
   "cell_type": "code",
   "execution_count": 16,
   "metadata": {
    "colab": {},
    "colab_type": "code",
    "id": "yfOqMjKG3_ob"
   },
   "outputs": [],
   "source": [
    "data=pd.get_dummies(data,columns=['browser'])"
   ]
  },
  {
   "cell_type": "code",
   "execution_count": 17,
   "metadata": {
    "colab": {
     "base_uri": "https://localhost:8080/",
     "height": 241
    },
    "colab_type": "code",
    "id": "IkTKNUsR4kaO",
    "outputId": "cb569364-ef0f-4724-c3a6-611b5738b188"
   },
   "outputs": [
    {
     "data": {
      "text/html": [
       "<div>\n",
       "<style scoped>\n",
       "    .dataframe tbody tr th:only-of-type {\n",
       "        vertical-align: middle;\n",
       "    }\n",
       "\n",
       "    .dataframe tbody tr th {\n",
       "        vertical-align: top;\n",
       "    }\n",
       "\n",
       "    .dataframe thead th {\n",
       "        text-align: right;\n",
       "    }\n",
       "</style>\n",
       "<table border=\"1\" class=\"dataframe\">\n",
       "  <thead>\n",
       "    <tr style=\"text-align: right;\">\n",
       "      <th></th>\n",
       "      <th>experiment</th>\n",
       "      <th>date</th>\n",
       "      <th>hour</th>\n",
       "      <th>device_make</th>\n",
       "      <th>platform_os</th>\n",
       "      <th>response</th>\n",
       "      <th>browser_Chrome</th>\n",
       "      <th>browser_Chrome Mobile</th>\n",
       "      <th>browser_Chrome Mobile WebView</th>\n",
       "      <th>browser_Chrome Mobile iOS</th>\n",
       "      <th>browser_Facebook</th>\n",
       "      <th>browser_Mobile Safari</th>\n",
       "      <th>browser_Mobile Safari UI/WKWebView</th>\n",
       "      <th>browser_Samsung Internet</th>\n",
       "    </tr>\n",
       "  </thead>\n",
       "  <tbody>\n",
       "    <tr>\n",
       "      <th>2</th>\n",
       "      <td>1</td>\n",
       "      <td>2020-07-05</td>\n",
       "      <td>2</td>\n",
       "      <td>E5823</td>\n",
       "      <td>6</td>\n",
       "      <td>0</td>\n",
       "      <td>0</td>\n",
       "      <td>0</td>\n",
       "      <td>1</td>\n",
       "      <td>0</td>\n",
       "      <td>0</td>\n",
       "      <td>0</td>\n",
       "      <td>0</td>\n",
       "      <td>0</td>\n",
       "    </tr>\n",
       "    <tr>\n",
       "      <th>16</th>\n",
       "      <td>1</td>\n",
       "      <td>2020-07-04</td>\n",
       "      <td>16</td>\n",
       "      <td>Generic Smartphone</td>\n",
       "      <td>6</td>\n",
       "      <td>1</td>\n",
       "      <td>0</td>\n",
       "      <td>1</td>\n",
       "      <td>0</td>\n",
       "      <td>0</td>\n",
       "      <td>0</td>\n",
       "      <td>0</td>\n",
       "      <td>0</td>\n",
       "      <td>0</td>\n",
       "    </tr>\n",
       "    <tr>\n",
       "      <th>20</th>\n",
       "      <td>1</td>\n",
       "      <td>2020-07-06</td>\n",
       "      <td>8</td>\n",
       "      <td>Generic Smartphone</td>\n",
       "      <td>6</td>\n",
       "      <td>0</td>\n",
       "      <td>0</td>\n",
       "      <td>1</td>\n",
       "      <td>0</td>\n",
       "      <td>0</td>\n",
       "      <td>0</td>\n",
       "      <td>0</td>\n",
       "      <td>0</td>\n",
       "      <td>0</td>\n",
       "    </tr>\n",
       "  </tbody>\n",
       "</table>\n",
       "</div>"
      ],
      "text/plain": [
       "    experiment        date  hour         device_make  platform_os  response  \\\n",
       "2            1  2020-07-05     2               E5823            6         0   \n",
       "16           1  2020-07-04    16  Generic Smartphone            6         1   \n",
       "20           1  2020-07-06     8  Generic Smartphone            6         0   \n",
       "\n",
       "    browser_Chrome  browser_Chrome Mobile  browser_Chrome Mobile WebView  \\\n",
       "2                0                      0                              1   \n",
       "16               0                      1                              0   \n",
       "20               0                      1                              0   \n",
       "\n",
       "    browser_Chrome Mobile iOS  browser_Facebook  browser_Mobile Safari  \\\n",
       "2                           0                 0                      0   \n",
       "16                          0                 0                      0   \n",
       "20                          0                 0                      0   \n",
       "\n",
       "    browser_Mobile Safari UI/WKWebView  browser_Samsung Internet  \n",
       "2                                    0                         0  \n",
       "16                                   0                         0  \n",
       "20                                   0                         0  "
      ]
     },
     "execution_count": 17,
     "metadata": {},
     "output_type": "execute_result"
    }
   ],
   "source": [
    "data.head(3)"
   ]
  },
  {
   "cell_type": "code",
   "execution_count": 18,
   "metadata": {
    "colab": {},
    "colab_type": "code",
    "id": "HG3Gu61X3YTd"
   },
   "outputs": [],
   "source": [
    "data.device_make.value_counts()\n",
    "searchfor=['Generic Smartphone','Samsung','iPhone','LG-$2','HTC','POT-LX1','Nokia','OnePlus','Pixel 3a','XiaoMi','CLT-L09' ]\n",
    "\n",
    "data.loc[~(data['device_make'].astype(str).str.contains('|'.join(searchfor))), 'device_make'] = 'Others'"
   ]
  },
  {
   "cell_type": "code",
   "execution_count": 19,
   "metadata": {
    "colab": {
     "base_uri": "https://localhost:8080/",
     "height": 230
    },
    "colab_type": "code",
    "id": "g4BU9kRX5nup",
    "outputId": "357f96a5-2e2b-4526-b4ea-86d757d78fee"
   },
   "outputs": [
    {
     "data": {
      "text/plain": [
       "Generic Smartphone     719\n",
       "Others                  89\n",
       "Samsung SM-G960F        45\n",
       "Samsung SM-G950F        35\n",
       "Samsung SM-G973F        22\n",
       "Samsung SM-A202F        18\n",
       "iPhone                  18\n",
       "Samsung SM-G930F        16\n",
       "Samsung SM-G975F        15\n",
       "Samsung SM-A405FN       14\n",
       "Samsung SM-A105FN       13\n",
       "Samsung SM-A505FN       11\n",
       "Samsung SM-G935F        11\n",
       "Samsung SM-G965F        11\n",
       "Nokia undefined$2$3     11\n",
       "Samsung SM-J330FN       10\n",
       "Samsung SM-A705FN       10\n",
       "Samsung SM-G970F        10\n",
       "Nokia$2$3                9\n",
       "Samsung SM-A520F         8\n",
       "POT-LX1                  8\n",
       "Samsung SM-A320FL        8\n",
       "Samsung SM-J530F         7\n",
       "Samsung SM-J600FN        6\n",
       "Samsung $2               6\n",
       "Samsung SM-G920F         5\n",
       "CLT-L09                  5\n",
       "Samsung SM-A530F         5\n",
       "Samsung SM-G900F         5\n",
       "Samsung SM-A300FU        5\n",
       "Samsung SM-N960F         5\n",
       "Samsung SM-A600FN        4\n",
       "Samsung SM-G980F         4\n",
       "Samsung SM-G986B         4\n",
       "Samsung SM-G981B         4\n",
       "Samsung SM-G955F         4\n",
       "Samsung SM-N976B         3\n",
       "Samsung SM-G770F         3\n",
       "Samsung SM-N950F         3\n",
       "Samsung SM-J320FN        3\n",
       "Name: device_make, dtype: int64"
      ]
     },
     "execution_count": 19,
     "metadata": {},
     "output_type": "execute_result"
    }
   ],
   "source": [
    "data['device_make'].value_counts().head(40)"
   ]
  },
  {
   "cell_type": "code",
   "execution_count": 20,
   "metadata": {
    "colab": {
     "base_uri": "https://localhost:8080/",
     "height": 314
    },
    "colab_type": "code",
    "id": "QWR2TDSTymCx",
    "outputId": "90d9519d-62f1-4bdd-8523-760e620f7017"
   },
   "outputs": [
    {
     "data": {
      "text/html": [
       "<div>\n",
       "<style scoped>\n",
       "    .dataframe tbody tr th:only-of-type {\n",
       "        vertical-align: middle;\n",
       "    }\n",
       "\n",
       "    .dataframe tbody tr th {\n",
       "        vertical-align: top;\n",
       "    }\n",
       "\n",
       "    .dataframe thead th {\n",
       "        text-align: right;\n",
       "    }\n",
       "</style>\n",
       "<table border=\"1\" class=\"dataframe\">\n",
       "  <thead>\n",
       "    <tr style=\"text-align: right;\">\n",
       "      <th></th>\n",
       "      <th>experiment</th>\n",
       "      <th>date</th>\n",
       "      <th>hour</th>\n",
       "      <th>device_make</th>\n",
       "      <th>platform_os</th>\n",
       "      <th>response</th>\n",
       "      <th>browser_Chrome</th>\n",
       "      <th>browser_Chrome Mobile</th>\n",
       "      <th>browser_Chrome Mobile WebView</th>\n",
       "      <th>browser_Chrome Mobile iOS</th>\n",
       "      <th>browser_Facebook</th>\n",
       "      <th>browser_Mobile Safari</th>\n",
       "      <th>browser_Mobile Safari UI/WKWebView</th>\n",
       "      <th>browser_Samsung Internet</th>\n",
       "    </tr>\n",
       "  </thead>\n",
       "  <tbody>\n",
       "    <tr>\n",
       "      <th>2</th>\n",
       "      <td>1</td>\n",
       "      <td>2020-07-05</td>\n",
       "      <td>2</td>\n",
       "      <td>12</td>\n",
       "      <td>6</td>\n",
       "      <td>0</td>\n",
       "      <td>0</td>\n",
       "      <td>0</td>\n",
       "      <td>1</td>\n",
       "      <td>0</td>\n",
       "      <td>0</td>\n",
       "      <td>0</td>\n",
       "      <td>0</td>\n",
       "      <td>0</td>\n",
       "    </tr>\n",
       "    <tr>\n",
       "      <th>16</th>\n",
       "      <td>1</td>\n",
       "      <td>2020-07-04</td>\n",
       "      <td>16</td>\n",
       "      <td>1</td>\n",
       "      <td>6</td>\n",
       "      <td>1</td>\n",
       "      <td>0</td>\n",
       "      <td>1</td>\n",
       "      <td>0</td>\n",
       "      <td>0</td>\n",
       "      <td>0</td>\n",
       "      <td>0</td>\n",
       "      <td>0</td>\n",
       "      <td>0</td>\n",
       "    </tr>\n",
       "    <tr>\n",
       "      <th>20</th>\n",
       "      <td>1</td>\n",
       "      <td>2020-07-06</td>\n",
       "      <td>8</td>\n",
       "      <td>1</td>\n",
       "      <td>6</td>\n",
       "      <td>0</td>\n",
       "      <td>0</td>\n",
       "      <td>1</td>\n",
       "      <td>0</td>\n",
       "      <td>0</td>\n",
       "      <td>0</td>\n",
       "      <td>0</td>\n",
       "      <td>0</td>\n",
       "      <td>0</td>\n",
       "    </tr>\n",
       "    <tr>\n",
       "      <th>23</th>\n",
       "      <td>0</td>\n",
       "      <td>2020-07-08</td>\n",
       "      <td>4</td>\n",
       "      <td>17</td>\n",
       "      <td>6</td>\n",
       "      <td>1</td>\n",
       "      <td>0</td>\n",
       "      <td>0</td>\n",
       "      <td>0</td>\n",
       "      <td>0</td>\n",
       "      <td>1</td>\n",
       "      <td>0</td>\n",
       "      <td>0</td>\n",
       "      <td>0</td>\n",
       "    </tr>\n",
       "    <tr>\n",
       "      <th>27</th>\n",
       "      <td>0</td>\n",
       "      <td>2020-07-03</td>\n",
       "      <td>15</td>\n",
       "      <td>1</td>\n",
       "      <td>6</td>\n",
       "      <td>0</td>\n",
       "      <td>0</td>\n",
       "      <td>1</td>\n",
       "      <td>0</td>\n",
       "      <td>0</td>\n",
       "      <td>0</td>\n",
       "      <td>0</td>\n",
       "      <td>0</td>\n",
       "      <td>0</td>\n",
       "    </tr>\n",
       "  </tbody>\n",
       "</table>\n",
       "</div>"
      ],
      "text/plain": [
       "    experiment        date  hour  device_make  platform_os  response  \\\n",
       "2            1  2020-07-05     2           12            6         0   \n",
       "16           1  2020-07-04    16            1            6         1   \n",
       "20           1  2020-07-06     8            1            6         0   \n",
       "23           0  2020-07-08     4           17            6         1   \n",
       "27           0  2020-07-03    15            1            6         0   \n",
       "\n",
       "    browser_Chrome  browser_Chrome Mobile  browser_Chrome Mobile WebView  \\\n",
       "2                0                      0                              1   \n",
       "16               0                      1                              0   \n",
       "20               0                      1                              0   \n",
       "23               0                      0                              0   \n",
       "27               0                      1                              0   \n",
       "\n",
       "    browser_Chrome Mobile iOS  browser_Facebook  browser_Mobile Safari  \\\n",
       "2                           0                 0                      0   \n",
       "16                          0                 0                      0   \n",
       "20                          0                 0                      0   \n",
       "23                          0                 1                      0   \n",
       "27                          0                 0                      0   \n",
       "\n",
       "    browser_Mobile Safari UI/WKWebView  browser_Samsung Internet  \n",
       "2                                    0                         0  \n",
       "16                                   0                         0  \n",
       "20                                   0                         0  \n",
       "23                                   0                         0  \n",
       "27                                   0                         0  "
      ]
     },
     "execution_count": 20,
     "metadata": {},
     "output_type": "execute_result"
    }
   ],
   "source": [
    "from sklearn.preprocessing import LabelEncoder\n",
    "\n",
    "label_encoder = LabelEncoder()\n",
    "data[\"device_make\"] = label_encoder.fit_transform(data[\"device_make\"])\n",
    "data.head(5)"
   ]
  },
  {
   "cell_type": "code",
   "execution_count": 21,
   "metadata": {
    "colab": {},
    "colab_type": "code",
    "id": "9APgION2ATZA"
   },
   "outputs": [],
   "source": [
    "data.head(5)\n",
    "data.drop('date',axis=1,inplace=True)"
   ]
  },
  {
   "cell_type": "code",
   "execution_count": 22,
   "metadata": {
    "colab": {
     "base_uri": "https://localhost:8080/",
     "height": 726
    },
    "colab_type": "code",
    "id": "IQPQ6u2J8aU3",
    "outputId": "8a901d3f-b38d-4229-d94c-2b4b9b3d782d"
   },
   "outputs": [
    {
     "data": {
      "image/png": "[encoded data removed]",
      "text/plain": [
       "<Figure size 720x720 with 2 Axes>"
      ]
     },
     "metadata": {
      "needs_background": "light"
     },
     "output_type": "display_data"
    }
   ],
   "source": [
    "# checking the correlations between the numerical variables\n",
    "\n",
    "corr = data.corr()\n",
    "\n",
    "# plotting the correlations onto a heatmap\n",
    "fig = plt.figure(figsize=(10,10))\n",
    "ax = fig.add_subplot(111)\n",
    "cax = ax.matshow(corr,cmap='coolwarm', vmin=-1, vmax=1)\n",
    "fig.colorbar(cax)\n",
    "ticks = np.arange(0,len(data.columns),1)\n",
    "ax.set_xticks(ticks)\n",
    "plt.xticks(rotation=90)\n",
    "ax.set_yticks(ticks)\n",
    "ax.set_xticklabels(data.columns)\n",
    "ax.set_yticklabels(data.columns)\n",
    "plt.show()"
   ]
  },
  {
   "cell_type": "markdown",
   "metadata": {
    "colab_type": "text",
    "id": "BQLHu2VPPiCT"
   },
   "source": [
    "### Splitting data \n",
    "* Split the data into 70% training, 20% validation, and 10% test sets.\n"
   ]
  },
  {
   "cell_type": "code",
   "execution_count": 23,
   "metadata": {
    "colab": {},
    "colab_type": "code",
    "id": "wCVbM0xcasIL"
   },
   "outputs": [],
   "source": [
    "# dividing our dataset into features (X) and target (y)\n",
    "y = data.iloc[:,-1].values  # Independent/predictor variables\n",
    "X = data.iloc[:, :-1].values\n",
    "\n",
    "\n",
    "from sklearn.model_selection import train_test_split\n",
    "\n",
    "x, x_test, y, y_test = train_test_split(X,y,test_size=0.2,train_size=0.7,random_state = 0)\n",
    "x_train, x_cv, y_train, y_cv = train_test_split(x,y,test_size = 0.22,train_size =0.78,random_state = 0)"
   ]
  },
  {
   "cell_type": "code",
   "execution_count": 24,
   "metadata": {
    "colab": {},
    "colab_type": "code",
    "id": "cLa8VQrUasIS"
   },
   "outputs": [],
   "source": [
    "# performing feature scaling on our training data\n",
    "from sklearn.preprocessing import MinMaxScaler\n",
    "scaler = MinMaxScaler()\n",
    "\n",
    "# fitting and transforming X_train while transforming X_test\n",
    "x_train = scaler.fit_transform(x_train)\n",
    "x_test = scaler.transform(x_test)\n",
    "x_cv = scaler.transform(x_cv)"
   ]
  },
  {
   "cell_type": "markdown",
   "metadata": {
    "colab_type": "text",
    "id": "KkiC_VCfPrFX"
   },
   "source": [
    "### Apply ML and train using 5-fold CV\n",
    "* Train a machine learning model using 5-fold cross validation the following 3 different algorithms:\n",
    " * Logistic Regression \n",
    " * Decision Trees\n",
    " * XGBoost\n",
    "\n"
   ]
  },
  {
   "cell_type": "code",
   "execution_count": 29,
   "metadata": {
    "colab": {
     "base_uri": "https://localhost:8080/",
     "height": 87
    },
    "colab_type": "code",
    "id": "u7fuGd4cFSKH",
    "outputId": "f4f7d8a5-eea4-480c-d40c-404364578527"
   },
   "outputs": [
    {
     "name": "stdout",
     "output_type": "stream",
     "text": [
      "0.9985185185185186\n",
      "Scores: [1.         1.         1.         1.         0.99259259]\n",
      "Mean: 0.9985185185185186\n",
      "Standard Deviation: 0.002962962962962967\n"
     ]
    }
   ],
   "source": [
    "# 5-fold cross-validation with logistic regression\n",
    "from sklearn.linear_model import LogisticRegression\n",
    "\n",
    "from sklearn.model_selection import cross_val_score\n",
    "\n",
    "logreg = LogisticRegression()\n",
    "\n",
    "print(cross_val_score(logreg, x_train, y_train, cv=5, scoring='accuracy').mean())\n",
    "\n",
    "scores=cross_val_score(logreg, x_train, y_train, cv=5, scoring='accuracy')\n",
    "print(\"Scores:\", scores)\n",
    "print(\"Mean:\", scores.mean())\n",
    "print(\"Standard Deviation:\", scores.std())"
   ]
  },
  {
   "cell_type": "code",
   "execution_count": 31,
   "metadata": {
    "colab": {
     "base_uri": "https://localhost:8080/",
     "height": 87
    },
    "colab_type": "code",
    "id": "o_205H7iESNg",
    "outputId": "87db8186-243e-4890-ab21-aa3b9afaafa4"
   },
   "outputs": [
    {
     "name": "stdout",
     "output_type": "stream",
     "text": [
      "0.9970370370370369\n",
      "Scores: [1.         1.         1.         0.99259259 0.99259259]\n",
      "Mean: 0.9970370370370369\n",
      "Standard Deviation: 0.003628873693012121\n"
     ]
    }
   ],
   "source": [
    "# 5-fold cross-validation with XGbooost\n",
    "from xgboost import XGBClassifier\n",
    "\n",
    "xgb_cv = XGBClassifier(n_estimators=100)\n",
    "\n",
    "print(cross_val_score(xgb_cv, x_train, y_train, cv=5, scoring = \"accuracy\").mean())\n",
    "\n",
    "scores = cross_val_score(xgb_cv, x_train, y_train, cv=5, scoring = \"accuracy\")\n",
    "print(\"Scores:\", scores)\n",
    "print(\"Mean:\", scores.mean())\n",
    "print(\"Standard Deviation:\", scores.std())"
   ]
  },
  {
   "cell_type": "code",
   "execution_count": 27,
   "metadata": {
    "colab": {
     "base_uri": "https://localhost:8080/",
     "height": 87
    },
    "colab_type": "code",
    "id": "i4-nqSBeFme7",
    "outputId": "d5616f49-c29e-4306-bf8c-0b2dd93add01"
   },
   "outputs": [
    {
     "name": "stdout",
     "output_type": "stream",
     "text": [
      "0.9985185185185186\n",
      "Scores: [1. 1. 1. 1. 1.]\n",
      "Mean: 1.0\n",
      "Standard Deviation: 0.0\n"
     ]
    }
   ],
   "source": [
    "# 5-fold cross-validation with Decision Tree Classifier\n",
    "from sklearn.tree import DecisionTreeClassifier\n",
    "\n",
    "decision_tree = DecisionTreeClassifier()\n",
    "\n",
    "print(cross_val_score(decision_tree, x_train, y_train, cv=5, scoring='accuracy').mean())\n",
    "\n",
    "scores = cross_val_score(decision_tree, x_train, y_train, cv=5, scoring = \"accuracy\")\n",
    "\n",
    "print(\"Scores:\", scores)\n",
    "print(\"Mean:\", scores.mean())\n",
    "print(\"Standard Deviation:\", scores.std())"
   ]
  },
  {
   "cell_type": "markdown",
   "metadata": {
    "colab_type": "text",
    "id": "RmDijaEMQiNt"
   },
   "source": [
    "### Loss Function\n",
    "Define the appropriate loss function  for the model using the validation data. "
   ]
  },
  {
   "cell_type": "code",
   "execution_count": 32,
   "metadata": {
    "colab": {},
    "colab_type": "code",
    "id": "AcD9rU0rtk8z"
   },
   "outputs": [],
   "source": [
    "# from sklearn.metrics import log_loss\n",
    "# # classification report for Logistic Regression\n",
    "# print(\"Logistic Regression classification report:\")\n",
    "# print(log_loss(y_test, logistic_y_prediction))\n",
    "\n",
    "\n",
    "# # classification report for Decision Tree Classifier\n",
    "# print(\"Decision Tree classification report:\")\n",
    "# print(log_loss(y_test, decision_y_prediction))\n",
    "\n",
    "# # classification report for Decision Tree Classifier\n",
    "# print(\"XGBoost report:\")\n",
    "# print(log_loss(y_test, xgb_y_prediction))"
   ]
  },
  {
   "cell_type": "code",
   "execution_count": 33,
   "metadata": {
    "colab": {},
    "colab_type": "code",
    "id": "E3hBaXKTasIV"
   },
   "outputs": [],
   "source": [
    "logreg.fit(x_cv, y_cv)\n",
    "decision_tree.fit(x_cv, y_cv)\n",
    "xgb_cv.fit(x_cv, y_cv)\n",
    "\n",
    "\n",
    "# making predictions\n",
    "logistic_y_prediction = logreg.predict(x_test) \n",
    "decision_y_prediction = decision_tree.predict(x_test) \n",
    "xgb_y_prediction = xgb_cv.predict(x_test) \n"
   ]
  },
  {
   "cell_type": "code",
   "execution_count": 34,
   "metadata": {
    "colab": {
     "base_uri": "https://localhost:8080/",
     "height": 550
    },
    "colab_type": "code",
    "id": "KfXCA87-asIf",
    "outputId": "b88e0dcb-ac33-4d3a-f75f-5bf6f2540ae7"
   },
   "outputs": [
    {
     "name": "stdout",
     "output_type": "stream",
     "text": [
      "Logistic Regression classification report:\n",
      "              precision    recall  f1-score   support\n",
      "\n",
      "           0       0.99      1.00      0.99       228\n",
      "           1       0.95      0.90      0.93        21\n",
      "\n",
      "    accuracy                           0.99       249\n",
      "   macro avg       0.97      0.95      0.96       249\n",
      "weighted avg       0.99      0.99      0.99       249\n",
      "\n",
      "Decision Tree classification report:\n",
      "              precision    recall  f1-score   support\n",
      "\n",
      "           0       1.00      1.00      1.00       228\n",
      "           1       1.00      1.00      1.00        21\n",
      "\n",
      "    accuracy                           1.00       249\n",
      "   macro avg       1.00      1.00      1.00       249\n",
      "weighted avg       1.00      1.00      1.00       249\n",
      "\n",
      "XGBoost report:\n",
      "              precision    recall  f1-score   support\n",
      "\n",
      "           0       0.99      0.99      0.99       228\n",
      "           1       0.86      0.86      0.86        21\n",
      "\n",
      "    accuracy                           0.98       249\n",
      "   macro avg       0.92      0.92      0.92       249\n",
      "weighted avg       0.98      0.98      0.98       249\n",
      "\n"
     ]
    }
   ],
   "source": [
    "# printing the classification report for each classifier to assess performance\n",
    "from sklearn.metrics import classification_report\n",
    "\n",
    "# classification report for Logistic Regression\n",
    "print(\"Logistic Regression classification report:\")\n",
    "print(classification_report(y_test, logistic_y_prediction))\n",
    "\n",
    "\n",
    "# classification report for Decision Tree Classifier\n",
    "print(\"Decision Tree classification report:\")\n",
    "print(classification_report(y_test, decision_y_prediction))\n",
    "\n",
    "# classification report for Decision Tree Classifier\n",
    "print(\"XGBoost report:\")\n",
    "print(classification_report(y_test, xgb_y_prediction))\n",
    "\n"
   ]
  },
  {
   "cell_type": "code",
   "execution_count": 35,
   "metadata": {
    "colab": {},
    "colab_type": "code",
    "id": "zAHGtaqZhWX8"
   },
   "outputs": [
    {
     "name": "stdout",
     "output_type": "stream",
     "text": [
      "Logistic Regression classifier:\n",
      "[[227   2]\n",
      " [  1  19]]\n",
      "Decision Tree classifier:\n",
      "[[228   0]\n",
      " [  0  21]]\n",
      "XGBoost :\n",
      "[[225   3]\n",
      " [  3  18]]\n"
     ]
    }
   ],
   "source": [
    "from sklearn.metrics import confusion_matrix \n",
    " \n",
    "print('Logistic Regression classifier:')\n",
    "print(confusion_matrix(logistic_y_prediction, y_test))\n",
    "\n",
    "print('Decision Tree classifier:')\n",
    "print(confusion_matrix(decision_y_prediction, y_test))\n",
    "\n",
    "print('XGBoost :')\n",
    "print(confusion_matrix(xgb_y_prediction, y_test))\n"
   ]
  },
  {
   "cell_type": "markdown",
   "metadata": {
    "colab_type": "text",
    "id": "GlxgDJTxE6ci"
   },
   "source": [
    "### Feature Importance\n",
    "\n",
    "* Compute feature importance - what’s driving the model? Which parameters are important predictors for the different ML models? What contributes to the goal of gaining more “Yes” results?\n",
    "---\n",
    "\n"
   ]
  },
  {
   "cell_type": "markdown",
   "metadata": {
    "colab_type": "text",
    "id": "0micHFVSGVyu"
   },
   "source": [
    "#### Logistic regression feature importance"
   ]
  },
  {
   "cell_type": "code",
   "execution_count": 36,
   "metadata": {
    "colab": {
     "base_uri": "https://localhost:8080/",
     "height": 477
    },
    "colab_type": "code",
    "id": "5SkwBroUW62T",
    "outputId": "7b6bb2bb-fc7c-4bf7-ea46-14a6c5e0423c"
   },
   "outputs": [
    {
     "name": "stdout",
     "output_type": "stream",
     "text": [
      "Feature: experiment, Score: -0.17585\n",
      "Feature: hour, Score: 0.06901\n",
      "Feature: device_make, Score: 0.98286\n",
      "Feature: platform_os, Score: 2.01548\n",
      "Feature: browser_Chrome, Score: -0.02908\n",
      "Feature: browser_Chrome Mobile, Score: 0.00000\n",
      "Feature: browser_Chrome Mobile WebView, Score: -5.24235\n",
      "Feature: browser_Chrome Mobile iOS, Score: -4.54912\n",
      "Feature: browser_Facebook, Score: 0.00000\n",
      "Feature: browser_Mobile Safari, Score: -4.32457\n",
      "Feature: browser_Mobile Safari UI/WKWebView, Score: -1.70636\n",
      "Feature: browser_Samsung Internet, Score: -0.90362\n"
     ]
    },
    {
     "data": {
      "image/png": "[encoded data removed]",
      "text/plain": [
       "<Figure size 432x288 with 1 Axes>"
      ]
     },
     "metadata": {
      "needs_background": "light"
     },
     "output_type": "display_data"
    }
   ],
   "source": [
    "# get importance logistic\n",
    "from matplotlib import pyplot\n",
    "\n",
    "x=data.drop('response',axis=1).columns\n",
    "\n",
    "logreg.fit(x_train,y_train)\n",
    "importance = logreg.coef_[0]\n",
    "# summarize feature importance\n",
    "for x,v in zip(x,importance):\n",
    "\tprint('Feature: %s, Score: %.5f' % (x,v))\n",
    "# plot feature importance\n",
    "pyplot.bar([x for x in range(len(importance))], importance)\n",
    "pyplot.show()"
   ]
  },
  {
   "cell_type": "markdown",
   "metadata": {
    "colab_type": "text",
    "id": "uhtT9VX2RO3X"
   },
   "source": [
    ">> The following are important parameters for gaining more 'Yes' results:\n",
    "* platform_os\n",
    "* browser_Facebook\n",
    "* experiment\n",
    "* device make\n"
   ]
  },
  {
   "cell_type": "code",
   "execution_count": 39,
   "metadata": {
    "colab": {
     "base_uri": "https://localhost:8080/",
     "height": 474
    },
    "colab_type": "code",
    "id": "oU2o5NdBLfn6",
    "outputId": "47a780c8-9618-4a55-ed81-56472bc671b7"
   },
   "outputs": [
    {
     "data": {
      "text/plain": [
       "<AxesSubplot:xlabel='Feature'>"
      ]
     },
     "execution_count": 39,
     "metadata": {},
     "output_type": "execute_result"
    },
    {
     "data": {
      "image/png": "[encoded data removed]",
      "text/plain": [
       "<Figure size 432x288 with 1 Axes>"
      ]
     },
     "metadata": {
      "needs_background": "light"
     },
     "output_type": "display_data"
    }
   ],
   "source": [
    "importances = pd.DataFrame({\n",
    "    'Feature': data.drop('response', axis=1).columns,\n",
    "    'Importance': logreg.coef_[0]\n",
    "})\n",
    "importances = importances.sort_values(by='Importance', ascending=False)\n",
    "importances = importances.set_index('Feature')\n",
    "importances.plot(kind='bar')"
   ]
  },
  {
   "cell_type": "markdown",
   "metadata": {
    "colab_type": "text",
    "id": "tJw09RPAFa78"
   },
   "source": [
    "Recall this is a classification problem with classes 0 and 1. Notice that the coefficients are both positive and negative. The positive scores indicate a feature that predicts class 1, whereas the negative scores indicate a feature that predicts class 0."
   ]
  },
  {
   "cell_type": "markdown",
   "metadata": {
    "colab_type": "text",
    "id": "YAxYLpm1HB3n"
   },
   "source": [
    "#### XGBoost Feature Importance"
   ]
  },
  {
   "cell_type": "code",
   "execution_count": 40,
   "metadata": {
    "colab": {
     "base_uri": "https://localhost:8080/",
     "height": 437
    },
    "colab_type": "code",
    "id": "X0a5HmpPXNAd",
    "outputId": "562ce8cb-2c68-438a-b4d3-44d383c6c438"
   },
   "outputs": [
    {
     "data": {
      "text/html": [
       "<div>\n",
       "<style scoped>\n",
       "    .dataframe tbody tr th:only-of-type {\n",
       "        vertical-align: middle;\n",
       "    }\n",
       "\n",
       "    .dataframe tbody tr th {\n",
       "        vertical-align: top;\n",
       "    }\n",
       "\n",
       "    .dataframe thead th {\n",
       "        text-align: right;\n",
       "    }\n",
       "</style>\n",
       "<table border=\"1\" class=\"dataframe\">\n",
       "  <thead>\n",
       "    <tr style=\"text-align: right;\">\n",
       "      <th></th>\n",
       "      <th>Importance</th>\n",
       "    </tr>\n",
       "    <tr>\n",
       "      <th>Feature</th>\n",
       "      <th></th>\n",
       "    </tr>\n",
       "  </thead>\n",
       "  <tbody>\n",
       "    <tr>\n",
       "      <th>browser_Mobile Safari</th>\n",
       "      <td>0.542575</td>\n",
       "    </tr>\n",
       "    <tr>\n",
       "      <th>browser_Chrome Mobile iOS</th>\n",
       "      <td>0.315954</td>\n",
       "    </tr>\n",
       "    <tr>\n",
       "      <th>device_make</th>\n",
       "      <td>0.088342</td>\n",
       "    </tr>\n",
       "    <tr>\n",
       "      <th>browser_Chrome Mobile WebView</th>\n",
       "      <td>0.051394</td>\n",
       "    </tr>\n",
       "    <tr>\n",
       "      <th>experiment</th>\n",
       "      <td>0.000868</td>\n",
       "    </tr>\n",
       "    <tr>\n",
       "      <th>hour</th>\n",
       "      <td>0.000681</td>\n",
       "    </tr>\n",
       "    <tr>\n",
       "      <th>browser_Chrome</th>\n",
       "      <td>0.000185</td>\n",
       "    </tr>\n",
       "    <tr>\n",
       "      <th>platform_os</th>\n",
       "      <td>0.000000</td>\n",
       "    </tr>\n",
       "    <tr>\n",
       "      <th>browser_Chrome Mobile</th>\n",
       "      <td>0.000000</td>\n",
       "    </tr>\n",
       "    <tr>\n",
       "      <th>browser_Facebook</th>\n",
       "      <td>0.000000</td>\n",
       "    </tr>\n",
       "    <tr>\n",
       "      <th>browser_Mobile Safari UI/WKWebView</th>\n",
       "      <td>0.000000</td>\n",
       "    </tr>\n",
       "    <tr>\n",
       "      <th>browser_Samsung Internet</th>\n",
       "      <td>0.000000</td>\n",
       "    </tr>\n",
       "  </tbody>\n",
       "</table>\n",
       "</div>"
      ],
      "text/plain": [
       "                                    Importance\n",
       "Feature                                       \n",
       "browser_Mobile Safari                 0.542575\n",
       "browser_Chrome Mobile iOS             0.315954\n",
       "device_make                           0.088342\n",
       "browser_Chrome Mobile WebView         0.051394\n",
       "experiment                            0.000868\n",
       "hour                                  0.000681\n",
       "browser_Chrome                        0.000185\n",
       "platform_os                           0.000000\n",
       "browser_Chrome Mobile                 0.000000\n",
       "browser_Facebook                      0.000000\n",
       "browser_Mobile Safari UI/WKWebView    0.000000\n",
       "browser_Samsung Internet              0.000000"
      ]
     },
     "execution_count": 40,
     "metadata": {},
     "output_type": "execute_result"
    }
   ],
   "source": [
    "xgb_cv.fit(x_train,y_train)\n",
    "importances = pd.DataFrame({\n",
    "    'Feature': data.drop('response', axis=1).columns,\n",
    "    'Importance': xgb_cv.feature_importances_\n",
    "})\n",
    "importances = importances.sort_values(by='Importance', ascending=False)\n",
    "importances = importances.set_index('Feature')\n",
    "importances"
   ]
  },
  {
   "cell_type": "code",
   "execution_count": 44,
   "metadata": {},
   "outputs": [
    {
     "data": {
      "text/html": [
       "<div>\n",
       "<style scoped>\n",
       "    .dataframe tbody tr th:only-of-type {\n",
       "        vertical-align: middle;\n",
       "    }\n",
       "\n",
       "    .dataframe tbody tr th {\n",
       "        vertical-align: top;\n",
       "    }\n",
       "\n",
       "    .dataframe thead th {\n",
       "        text-align: right;\n",
       "    }\n",
       "</style>\n",
       "<table border=\"1\" class=\"dataframe\">\n",
       "  <thead>\n",
       "    <tr style=\"text-align: right;\">\n",
       "      <th></th>\n",
       "      <th>Importance</th>\n",
       "    </tr>\n",
       "    <tr>\n",
       "      <th>Feature</th>\n",
       "      <th></th>\n",
       "    </tr>\n",
       "  </thead>\n",
       "  <tbody>\n",
       "    <tr>\n",
       "      <th>browser_Mobile Safari</th>\n",
       "      <td>0.542575</td>\n",
       "    </tr>\n",
       "    <tr>\n",
       "      <th>browser_Chrome Mobile iOS</th>\n",
       "      <td>0.315954</td>\n",
       "    </tr>\n",
       "    <tr>\n",
       "      <th>device_make</th>\n",
       "      <td>0.088342</td>\n",
       "    </tr>\n",
       "    <tr>\n",
       "      <th>browser_Chrome Mobile WebView</th>\n",
       "      <td>0.051394</td>\n",
       "    </tr>\n",
       "    <tr>\n",
       "      <th>experiment</th>\n",
       "      <td>0.000868</td>\n",
       "    </tr>\n",
       "    <tr>\n",
       "      <th>hour</th>\n",
       "      <td>0.000681</td>\n",
       "    </tr>\n",
       "    <tr>\n",
       "      <th>browser_Chrome</th>\n",
       "      <td>0.000185</td>\n",
       "    </tr>\n",
       "    <tr>\n",
       "      <th>platform_os</th>\n",
       "      <td>0.000000</td>\n",
       "    </tr>\n",
       "    <tr>\n",
       "      <th>browser_Chrome Mobile</th>\n",
       "      <td>0.000000</td>\n",
       "    </tr>\n",
       "    <tr>\n",
       "      <th>browser_Facebook</th>\n",
       "      <td>0.000000</td>\n",
       "    </tr>\n",
       "    <tr>\n",
       "      <th>browser_Mobile Safari UI/WKWebView</th>\n",
       "      <td>0.000000</td>\n",
       "    </tr>\n",
       "    <tr>\n",
       "      <th>browser_Samsung Internet</th>\n",
       "      <td>0.000000</td>\n",
       "    </tr>\n",
       "  </tbody>\n",
       "</table>\n",
       "</div>"
      ],
      "text/plain": [
       "                                    Importance\n",
       "Feature                                       \n",
       "browser_Mobile Safari                 0.542575\n",
       "browser_Chrome Mobile iOS             0.315954\n",
       "device_make                           0.088342\n",
       "browser_Chrome Mobile WebView         0.051394\n",
       "experiment                            0.000868\n",
       "hour                                  0.000681\n",
       "browser_Chrome                        0.000185\n",
       "platform_os                           0.000000\n",
       "browser_Chrome Mobile                 0.000000\n",
       "browser_Facebook                      0.000000\n",
       "browser_Mobile Safari UI/WKWebView    0.000000\n",
       "browser_Samsung Internet              0.000000"
      ]
     },
     "execution_count": 44,
     "metadata": {},
     "output_type": "execute_result"
    }
   ],
   "source": [
    "importances"
   ]
  },
  {
   "cell_type": "markdown",
   "metadata": {
    "colab_type": "text",
    "id": "o9qGvDGbR9uk"
   },
   "source": [
    ">> The following are important features for the XGBoost model:\n",
    "* device_make\n",
    "* browser(Facebook,Samsung Internet,Chrome Mobile)\n",
    "* experiment"
   ]
  },
  {
   "cell_type": "code",
   "execution_count": 41,
   "metadata": {
    "colab": {
     "base_uri": "https://localhost:8080/",
     "height": 474
    },
    "colab_type": "code",
    "id": "UTCKpYxYIhny",
    "outputId": "c5199a0c-74eb-4c8e-bc8a-4ba8dd7eec1e"
   },
   "outputs": [
    {
     "data": {
      "text/plain": [
       "<AxesSubplot:xlabel='Feature'>"
      ]
     },
     "execution_count": 41,
     "metadata": {},
     "output_type": "execute_result"
    },
    {
     "data": {
      "image/png": "[encoded data removed]",
      "text/plain": [
       "<Figure size 432x288 with 1 Axes>"
      ]
     },
     "metadata": {
      "needs_background": "light"
     },
     "output_type": "display_data"
    }
   ],
   "source": [
    "importances.plot(kind='bar')"
   ]
  },
  {
   "cell_type": "markdown",
   "metadata": {
    "colab_type": "text",
    "id": "Kn3rub7YGfdP"
   },
   "source": [
    "#### Decision Tree Feature Importance"
   ]
  },
  {
   "cell_type": "code",
   "execution_count": 42,
   "metadata": {
    "colab": {
     "base_uri": "https://localhost:8080/",
     "height": 481
    },
    "colab_type": "code",
    "id": "4JYeJ4TzXCzi",
    "outputId": "c8133092-281c-45e9-a68c-b0b054227c27"
   },
   "outputs": [
    {
     "name": "stdout",
     "output_type": "stream",
     "text": [
      "Feature: experiment , Score: 0.00000\n",
      "Feature: hour , Score: 0.00000\n",
      "Feature: device_make , Score: 0.42874\n",
      "Feature: platform_os , Score: 0.00000\n",
      "Feature: browser_Chrome , Score: 0.00000\n",
      "Feature: browser_Chrome Mobile , Score: 0.00000\n",
      "Feature: browser_Chrome Mobile WebView , Score: 0.02554\n",
      "Feature: browser_Chrome Mobile iOS , Score: 0.20978\n",
      "Feature: browser_Facebook , Score: 0.00000\n",
      "Feature: browser_Mobile Safari , Score: 0.33594\n",
      "Feature: browser_Mobile Safari UI/WKWebView , Score: 0.00000\n",
      "Feature: browser_Samsung Internet , Score: 0.00000\n"
     ]
    },
    {
     "data": {
      "image/png": "[encoded data removed]",
      "text/plain": [
       "<Figure size 432x288 with 1 Axes>"
      ]
     },
     "metadata": {
      "needs_background": "light"
     },
     "output_type": "display_data"
    }
   ],
   "source": [
    "# get importance for decision\n",
    "\n",
    "x=data.drop('response',axis=1).columns\n",
    "\n",
    "decision_tree.fit(x_train,y_train)\n",
    "importance = decision_tree.feature_importances_\n",
    "# summarize feature importance\n",
    "for x,v in zip(x,importance):\n",
    "\tprint('Feature: %s , Score: %.5f' % (x,v))\n",
    "# plot feature importance\n",
    "pyplot.bar([x for x in range(len(importance))], importance)\n",
    "pyplot.show()"
   ]
  },
  {
   "cell_type": "code",
   "execution_count": 43,
   "metadata": {
    "colab": {
     "base_uri": "https://localhost:8080/",
     "height": 437
    },
    "colab_type": "code",
    "id": "WChca-kESP4z",
    "outputId": "8a961e5f-adb7-4b48-bc94-fe57e3bd61c0"
   },
   "outputs": [
    {
     "data": {
      "text/html": [
       "<div>\n",
       "<style scoped>\n",
       "    .dataframe tbody tr th:only-of-type {\n",
       "        vertical-align: middle;\n",
       "    }\n",
       "\n",
       "    .dataframe tbody tr th {\n",
       "        vertical-align: top;\n",
       "    }\n",
       "\n",
       "    .dataframe thead th {\n",
       "        text-align: right;\n",
       "    }\n",
       "</style>\n",
       "<table border=\"1\" class=\"dataframe\">\n",
       "  <thead>\n",
       "    <tr style=\"text-align: right;\">\n",
       "      <th></th>\n",
       "      <th>Importance</th>\n",
       "    </tr>\n",
       "    <tr>\n",
       "      <th>Feature</th>\n",
       "      <th></th>\n",
       "    </tr>\n",
       "  </thead>\n",
       "  <tbody>\n",
       "    <tr>\n",
       "      <th>browser_Mobile Safari</th>\n",
       "      <td>0.542575</td>\n",
       "    </tr>\n",
       "    <tr>\n",
       "      <th>browser_Chrome Mobile iOS</th>\n",
       "      <td>0.315954</td>\n",
       "    </tr>\n",
       "    <tr>\n",
       "      <th>device_make</th>\n",
       "      <td>0.088342</td>\n",
       "    </tr>\n",
       "    <tr>\n",
       "      <th>browser_Chrome Mobile WebView</th>\n",
       "      <td>0.051394</td>\n",
       "    </tr>\n",
       "    <tr>\n",
       "      <th>experiment</th>\n",
       "      <td>0.000868</td>\n",
       "    </tr>\n",
       "    <tr>\n",
       "      <th>hour</th>\n",
       "      <td>0.000681</td>\n",
       "    </tr>\n",
       "    <tr>\n",
       "      <th>browser_Chrome</th>\n",
       "      <td>0.000185</td>\n",
       "    </tr>\n",
       "    <tr>\n",
       "      <th>platform_os</th>\n",
       "      <td>0.000000</td>\n",
       "    </tr>\n",
       "    <tr>\n",
       "      <th>browser_Chrome Mobile</th>\n",
       "      <td>0.000000</td>\n",
       "    </tr>\n",
       "    <tr>\n",
       "      <th>browser_Facebook</th>\n",
       "      <td>0.000000</td>\n",
       "    </tr>\n",
       "    <tr>\n",
       "      <th>browser_Mobile Safari UI/WKWebView</th>\n",
       "      <td>0.000000</td>\n",
       "    </tr>\n",
       "    <tr>\n",
       "      <th>browser_Samsung Internet</th>\n",
       "      <td>0.000000</td>\n",
       "    </tr>\n",
       "  </tbody>\n",
       "</table>\n",
       "</div>"
      ],
      "text/plain": [
       "                                    Importance\n",
       "Feature                                       \n",
       "browser_Mobile Safari                 0.542575\n",
       "browser_Chrome Mobile iOS             0.315954\n",
       "device_make                           0.088342\n",
       "browser_Chrome Mobile WebView         0.051394\n",
       "experiment                            0.000868\n",
       "hour                                  0.000681\n",
       "browser_Chrome                        0.000185\n",
       "platform_os                           0.000000\n",
       "browser_Chrome Mobile                 0.000000\n",
       "browser_Facebook                      0.000000\n",
       "browser_Mobile Safari UI/WKWebView    0.000000\n",
       "browser_Samsung Internet              0.000000"
      ]
     },
     "execution_count": 43,
     "metadata": {},
     "output_type": "execute_result"
    }
   ],
   "source": [
    "importances"
   ]
  },
  {
   "cell_type": "markdown",
   "metadata": {
    "colab_type": "text",
    "id": "dsGukFjlSqzw"
   },
   "source": [
    ">> The following are important features for the Decision tree model:\n",
    "* hour\n",
    "* device_make\n",
    "* browser(Samsung Internet,Chrome Mobile view)\n",
    "* experiment"
   ]
  },
  {
   "cell_type": "code",
   "execution_count": 45,
   "metadata": {
    "colab": {
     "base_uri": "https://localhost:8080/",
     "height": 475
    },
    "colab_type": "code",
    "id": "XMKy_r12LLq5",
    "outputId": "b4dc08b1-32ab-447a-d001-5a3ff5e75836"
   },
   "outputs": [
    {
     "data": {
      "text/plain": [
       "<AxesSubplot:xlabel='Feature'>"
      ]
     },
     "execution_count": 45,
     "metadata": {},
     "output_type": "execute_result"
    },
    {
     "data": {
      "image/png": "[encoded data removed]",
      "text/plain": [
       "<Figure size 432x288 with 1 Axes>"
      ]
     },
     "metadata": {
      "needs_background": "light"
     },
     "output_type": "display_data"
    }
   ],
   "source": [
    "decision_tree.fit(x_train,y_train)\n",
    "importances = pd.DataFrame({\n",
    "    'Feature': data.drop('response', axis=1).columns,\n",
    "    'Importance': decision_tree.feature_importances_\n",
    "})\n",
    "importances = importances.sort_values(by='Importance', ascending=False)\n",
    "importances = importances.set_index('Feature')\n",
    "importances.plot(kind='bar')"
   ]
  }
 ],
 "metadata": {
  "colab": {
   "collapsed_sections": [
    "kLG2VTrnTvYL",
    "XecOwPNorl2W",
    "J4wfHZwQrs-t",
    "a9BPYqunry97",
    "7KMRBJ7zr9HD",
    "zSGyg6kWsBUl",
    "JAQOXE_B5pDw",
    "qQWHaCeQcZT6",
    "zt9QrWm7u4MQ",
    "L3TK5DzS1FOR",
    "vTbdjSrhVIiT",
    "noZz5YRQXKzi",
    "xrmHVMVsVS--"
   ],
   "include_colab_link": true,
   "name": "AdSmart_ABTesting.ipynb",
   "provenance": []
  },
  "kernelspec": {
   "display_name": "Python 3.10.5 64-bit",
   "language": "python",
   "name": "python3"
  },
  "language_info": {
   "codemirror_mode": {
    "name": "ipython",
    "version": 3
   },
   "file_extension": ".py",
   "mimetype": "text/x-python",
   "name": "python",
   "nbconvert_exporter": "python",
   "pygments_lexer": "ipython3",
   "version": "3.10.5"
  },
  "vscode": {
   "interpreter": {
    "hash": "369f2c481f4da34e4445cda3fffd2e751bd1c4d706f27375911949ba6bb62e1c"
   }
  }
 },
 "nbformat": 4,
 "nbformat_minor": 1
}
